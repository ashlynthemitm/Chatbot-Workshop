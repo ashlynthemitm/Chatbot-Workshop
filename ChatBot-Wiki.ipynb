{
 "cells": [
  {
   "cell_type": "markdown",
   "metadata": {},
   "source": [
    "# <center> RISE Workshop - Web Scraping Chatbot "
   ]
  },
  {
   "cell_type": "code",
   "execution_count": 1,
   "metadata": {},
   "outputs": [
    {
     "name": "stdout",
     "output_type": "stream",
     "text": [
      "Requirement already satisfied: requests in /Library/Frameworks/Python.framework/Versions/3.10/lib/python3.10/site-packages (2.28.1)\n",
      "Requirement already satisfied: charset-normalizer<3,>=2 in /Library/Frameworks/Python.framework/Versions/3.10/lib/python3.10/site-packages (from requests) (2.1.1)\n",
      "Requirement already satisfied: idna<4,>=2.5 in /Library/Frameworks/Python.framework/Versions/3.10/lib/python3.10/site-packages (from requests) (3.4)\n",
      "Requirement already satisfied: urllib3<1.27,>=1.21.1 in /Library/Frameworks/Python.framework/Versions/3.10/lib/python3.10/site-packages (from requests) (1.26.12)\n",
      "Requirement already satisfied: certifi>=2017.4.17 in /Library/Frameworks/Python.framework/Versions/3.10/lib/python3.10/site-packages (from requests) (2022.9.24)\n",
      "\n",
      "\u001b[1m[\u001b[0m\u001b[34;49mnotice\u001b[0m\u001b[1;39;49m]\u001b[0m\u001b[39;49m A new release of pip is available: \u001b[0m\u001b[31;49m23.1\u001b[0m\u001b[39;49m -> \u001b[0m\u001b[32;49m24.0\u001b[0m\n",
      "\u001b[1m[\u001b[0m\u001b[34;49mnotice\u001b[0m\u001b[1;39;49m]\u001b[0m\u001b[39;49m To update, run: \u001b[0m\u001b[32;49mpip install --upgrade pip\u001b[0m\n",
      "Note: you may need to restart the kernel to use updated packages.\n"
     ]
    }
   ],
   "source": [
    "# Dependencies\n",
    "\n",
    "%pip install requests"
   ]
  },
  {
   "cell_type": "code",
   "execution_count": 1,
   "metadata": {},
   "outputs": [],
   "source": [
    "import requests\n",
    "import json\n",
    "import re\n",
    "\n",
    "def askMe(search):\n",
    "    language_code = 'en'\n",
    "    search_query = search\n",
    "    number_of_results = 1\n",
    "    headers = {\n",
    "    # 'Authorization': 'Bearer YOUR_ACCESS_TOKEN',\n",
    "    'User-Agent': 'YOUR_APP_NAME (YOUR_EMAIL_OR_CONTACT_PAGE)'\n",
    "    }\n",
    "\n",
    "    base_url = 'https://api.wikimedia.org/core/v1/wikipedia/'\n",
    "    endpoint = '/search/page'\n",
    "    url = base_url + language_code + endpoint\n",
    "    parameters = {'q': search_query, 'limit': number_of_results}\n",
    "    response = requests.get(url, headers=headers, params=parameters)\n",
    "    \n",
    "    # Get article title, description, and URL from the search results\n",
    "\n",
    "    response = json.loads(response.text)\n",
    "    output = []\n",
    "\n",
    "    for page in response['pages']:\n",
    "      display_title = page['title']\n",
    "      article_url = 'https://' + language_code + '.wikipedia.org/wiki/' + page['key']\n",
    "      try:\n",
    "        article_description = page['description']\n",
    "      except:\n",
    "        article_description = 'a Wikipedia article'\n",
    "      try:\n",
    "        thumbnail_url = 'https:' + page['thumbnail']['url']\n",
    "      except:\n",
    "        thumbnail_url = 'https://upload.wikimedia.org/wikipedia/commons/thumb/8/80/Wikipedia-logo-v2.svg/200px-Wikipedia-logo-v2.svg.png'\n",
    "      excerpt_text = page['excerpt']\n",
    "      excerpt_text_no_tags = re.sub('<span.*?>|&.*;|</span>', '', excerpt_text)\n",
    "      description_text = page['description']\n",
    "      output.append({'excerpt': excerpt_text_no_tags, 'description': description_text, 'article_url': article_url})\n",
    "    \n",
    "    return output\n"
   ]
  },
  {
   "cell_type": "code",
   "execution_count": 2,
   "metadata": {},
   "outputs": [
    {
     "name": "stdout",
     "output_type": "stream",
     "text": [
      " -----------------------------------------------------------------------------------------------------------\n",
      "|                                                 ChatBot                                                  |\n",
      " -----------------------------------------------------------------------------------------------------------\n",
      "Hi, my name is Chatty! Ask me a question!\n",
      "\n",
      "\n",
      "To quit, type \"exit\"\n",
      "---------------------\n",
      "Here is what I found:\n",
      "None : The following is a list of countries and territories where Chinese is an official language. While those countries or territories that designate any variety ...\n",
      "For more information visit https://en.wikipedia.org/wiki/List_of_countries_and_territories_where_Chinese_is_an_official_language\n",
      "My name is Chatty!\n",
      "Thanks for chatting! Have a good day!\n"
     ]
    }
   ],
   "source": [
    "import time\n",
    "import random\n",
    "print(' -----------------------------------------------------------------------------------------------------------')\n",
    "print(\"|                                                 ChatBot                                                  |\")\n",
    "print(' -----------------------------------------------------------------------------------------------------------')\n",
    "print(\"Hi, my name is Chatty! Ask me a question!\")\n",
    "print()\n",
    "print()\n",
    "print('To quit, type \"exit\"')\n",
    "print('---------------------')\n",
    "\n",
    "def printSlowly(str):\n",
    "    for i in str:\n",
    "        time.sleep(0.05)\n",
    "        print(i, end='')\n",
    "    print()\n",
    "    \n",
    "def remove_punc(pstr):\n",
    "    punc = '''!()-[]{};:'\"\\,<>./?@#$%^&*_~'''\n",
    "    for ele in pstr:\n",
    "        if ele in punc:\n",
    "            pstr = pstr.replace(ele, \"\")\n",
    "    return pstr\n",
    "\n",
    "how_am_i = ['I am great, thanks for asking', \n",
    "'I am doing well, just staying busy.', \n",
    "'I am feeling fantastic', \n",
    "'Good, thanks!']\n",
    "\n",
    "gratitude = ['thanks', 'thank you']\n",
    "\n",
    "request = ''\n",
    "while request != 'exit':\n",
    "    request = input('\\n\\nQuestion: ')\n",
    "    request = remove_punc(request.lower())\n",
    "    time.sleep(0.5)\n",
    "    if request == 'how are you':\n",
    "        pick = random.randint(0, len(how_am_i)-1)\n",
    "        printSlowly(how_am_i[pick])\n",
    "    elif request == 'what is your name':\n",
    "        printSlowly('My name is Chatty!')\n",
    "    elif request in gratitude:\n",
    "        printSlowly('Happy to be of service!')\n",
    "    elif request == 'exit':\n",
    "        printSlowly('Thanks for chatting! Have a good day!')\n",
    "    else:\n",
    "        printSlowly('Here is what I found:')\n",
    "        search_results = askMe(request)\n",
    "\n",
    "        for i in search_results:\n",
    "            print(i['description'],':', i['excerpt'], '...')\n",
    "            print('For more information visit', i['article_url'])\n",
    "   "
   ]
  }
 ],
 "metadata": {
  "kernelspec": {
   "display_name": "Python 3",
   "language": "python",
   "name": "python3"
  },
  "language_info": {
   "codemirror_mode": {
    "name": "ipython",
    "version": 3
   },
   "file_extension": ".py",
   "mimetype": "text/x-python",
   "name": "python",
   "nbconvert_exporter": "python",
   "pygments_lexer": "ipython3",
   "version": "3.10.7"
  },
  "orig_nbformat": 4
 },
 "nbformat": 4,
 "nbformat_minor": 2
}
